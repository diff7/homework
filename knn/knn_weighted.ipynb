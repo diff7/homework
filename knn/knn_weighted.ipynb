{
 "cells": [
  {
   "cell_type": "code",
   "execution_count": 306,
   "metadata": {},
   "outputs": [],
   "source": [
    "import numpy as np\n",
    "from knn import KNN"
   ]
  },
  {
   "cell_type": "markdown",
   "metadata": {},
   "source": [
    "## KNN with cosine distance"
   ]
  },
  {
   "cell_type": "markdown",
   "metadata": {},
   "source": [
    "#### prepare the test data"
   ]
  },
  {
   "cell_type": "code",
   "execution_count": 307,
   "metadata": {},
   "outputs": [],
   "source": [
    "from sklearn import datasets\n",
    "from sklearn.neighbors import KNeighborsClassifier\n",
    "\n",
    "data = datasets.load_wine()\n",
    "features = data['data']\n",
    "targets = data['target']\n",
    "target_names = data['target_names']\n",
    "feature_names = data['feature_names']"
   ]
  },
  {
   "cell_type": "markdown",
   "metadata": {},
   "source": [
    "#### split the data"
   ]
  },
  {
   "cell_type": "code",
   "execution_count": 308,
   "metadata": {},
   "outputs": [],
   "source": [
    "n = 0.7\n",
    "test_idx = np.random.choice(range(features.shape[0]), int(features.shape[0]*n))\n",
    "test, y_test = features[test_idx], targets[test_idx]\n",
    "train, y_train = features[~test_idx], targets[~test_idx]"
   ]
  },
  {
   "cell_type": "markdown",
   "metadata": {},
   "source": [
    "#### Check the accuracy "
   ]
  },
  {
   "cell_type": "code",
   "execution_count": 315,
   "metadata": {},
   "outputs": [
    {
     "name": "stdout",
     "output_type": "stream",
     "text": [
      "accuracy: 0.8145161290322581\n"
     ]
    }
   ],
   "source": [
    "knn_classifier = KNN(normalize=True)\n",
    "knn_classifier.fit(train, y_train)\n",
    "predict = knn_classifier.predict(test, k=5)\n",
    "\n",
    "accuracy = sum(y_test == np.array(predict))/len(y_test)\n",
    "print(f'accuracy: {accuracy}')"
   ]
  },
  {
   "cell_type": "markdown",
   "metadata": {},
   "source": [
    "#### Matching up with SKlearn "
   ]
  },
  {
   "cell_type": "code",
   "execution_count": 313,
   "metadata": {},
   "outputs": [
    {
     "name": "stdout",
     "output_type": "stream",
     "text": [
      "accuracy: 0.8467741935483871\n"
     ]
    }
   ],
   "source": [
    "sk_knn = KNeighborsClassifier(5, metric='cosine')\n",
    "sk_knn.fit(train, y_train)\n",
    "predict = sk_knn.predict(test)\n",
    "\n",
    "accuracy = sum(y_test == np.array(predict))/len(y_test)\n",
    "print(f'accuracy: {accuracy}')"
   ]
  }
 ],
 "metadata": {
  "kernelspec": {
   "display_name": "Python 3",
   "language": "python",
   "name": "python3"
  },
  "language_info": {
   "codemirror_mode": {
    "name": "ipython",
    "version": 3
   },
   "file_extension": ".py",
   "mimetype": "text/x-python",
   "name": "python",
   "nbconvert_exporter": "python",
   "pygments_lexer": "ipython3",
   "version": "3.6.8"
  }
 },
 "nbformat": 4,
 "nbformat_minor": 4
}
